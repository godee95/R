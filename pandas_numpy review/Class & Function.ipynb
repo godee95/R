{
 "cells": [
  {
   "cell_type": "code",
   "execution_count": 7,
   "metadata": {},
   "outputs": [],
   "source": [
    "# Creating Class's Student\n",
    "class Student:\n",
    "    # variables(변수) => states(상태) or properties(속성)  <상태>\n",
    "    # behaviors => methods <동작>\n",
    "    \n",
    "    # default constructor\n",
    "    def __init__(self, name, age):\n",
    "        self.name = name\n",
    "        self.age = age\n",
    "    def gotoSchool(self):\n",
    "        print(\"I am angry\")\n",
    "    def gobackHome(self):\n",
    "        print(\"I am happy\", self.name, self.age)"
   ]
  },
  {
   "cell_type": "code",
   "execution_count": 8,
   "metadata": {},
   "outputs": [
    {
     "name": "stdout",
     "output_type": "stream",
     "text": [
      "I am angry\n",
      "I am happy Tom 20\n",
      "I am angry\n",
      "I am happy Amy 40\n"
     ]
    }
   ],
   "source": [
    "# Creating instance object\n",
    "stu1 = Student('Tom', 20)\n",
    "stu1.gotoSchool()\n",
    "stu1.gobackHome()\n",
    "\n",
    "stu2 = Student('Amy', 40)\n",
    "stu2.gotoSchool()\n",
    "stu2.gobackHome()"
   ]
  },
  {
   "cell_type": "code",
   "execution_count": 9,
   "metadata": {},
   "outputs": [
    {
     "name": "stdout",
     "output_type": "stream",
     "text": [
      "test method\n"
     ]
    }
   ],
   "source": [
    "# 단독으로 쓰이는 함수\n",
    "def test():\n",
    "    print(\"test method\")\n",
    "    \n",
    "test()\n",
    "\n",
    "\n",
    "# 클래스는 함수를 묶어 패키지화 해 사용하는거\n",
    "# 함수르 한번씩만 선언해도 불러와서 쓸 수 있는 장점이 있다."
   ]
  },
  {
   "cell_type": "code",
   "execution_count": 25,
   "metadata": {},
   "outputs": [
    {
     "name": "stdout",
     "output_type": "stream",
     "text": [
      "Amy\n",
      "Amy 20\n",
      "Test doc <class 'type'> __main__\n",
      "(<class 'object'>,) {'__module__': '__main__', '__doc__': 'Test doc', '__init__': <function Employee.__init__ at 0x000001DF1B680D90>, 'working': <function Employee.working at 0x000001DF1B680BF8>, '__dict__': <attribute '__dict__' of 'Employee' objects>, '__weakref__': <attribute '__weakref__' of 'Employee' objects>}\n"
     ]
    }
   ],
   "source": [
    "class Employee:\n",
    "    'Test doc'\n",
    "    #pass\n",
    "    #name = 'Tom'\n",
    "    def __init__(self, name):\n",
    "        self.name = name\n",
    "        print(\"%s\" % self.name)\n",
    "    def working(self, age):\n",
    "        self.age = age\n",
    "        print(\"%s %d\" % (self.name, self.age))\n",
    "        \n",
    "emp2 = Employee('Amy')\n",
    "emp2.working(20)\n",
    "#print(emp2.__class__.name)\n",
    "\n",
    "print(Employee.__doc__, Employee.__class__, Employee.__module__)\n",
    "print(Employee.__bases__, Employee.__dict__)"
   ]
  },
  {
   "cell_type": "code",
   "execution_count": 26,
   "metadata": {},
   "outputs": [],
   "source": [
    "class Point:\n",
    "    def __init__(self, x=0, y=0): # constructor 생성자\n",
    "        self.x = x\n",
    "        self.y = y\n",
    "    def __del__(self): #destructor 소멸자\n",
    "        class_name = self.__class__.__name__\n",
    "        print(class_name, \"destoryed\")"
   ]
  },
  {
   "cell_type": "code",
   "execution_count": 31,
   "metadata": {},
   "outputs": [
    {
     "name": "stdout",
     "output_type": "stream",
     "text": [
      "Point destoryed\n",
      "2057749776424 2057749776424 2057749776424\n",
      "Point destoryed\n"
     ]
    }
   ],
   "source": [
    "pt1 = Point()\n",
    "pt2 = pt1\n",
    "pt3 = pt1\n",
    "print(id(pt1), id(pt2), id(pt3))\n",
    "del pt1\n",
    "del pt2\n",
    "del pt3"
   ]
  },
  {
   "cell_type": "code",
   "execution_count": 39,
   "metadata": {},
   "outputs": [
    {
     "name": "stdout",
     "output_type": "stream",
     "text": [
      "Dog Constructor\n",
      "Animal Breath\n",
      "Dog Bark\n",
      "Dog Constructor\n",
      "SibaDog Constructor\n",
      "SibaDog Breath\n"
     ]
    }
   ],
   "source": [
    "# 클래스 상속(재사용하기 위한 목적)\n",
    "# Animal에 있는 함수가 그대로 왔다. 모든 정보가 내려왔다.\n",
    "\n",
    "class Animal:\n",
    "    def __init__(self):\n",
    "        print(\"Animal Constuctor\")\n",
    "    def breath(self):\n",
    "        print(\"Animal Breath\")\n",
    "\n",
    "class Dog(Animal):\n",
    "    def __init__(self):\n",
    "        print(\"Dog Constructor\")\n",
    "    def bark(self):\n",
    "        print(\"Dog Bark\")\n",
    "        \n",
    "class SibaDog(Dog):\n",
    "    def __init__(self):\n",
    "        super().__init__()\n",
    "        print(\"SibaDog Constructor\")\n",
    "    def breath(self): #Override\n",
    "        print(\"SibaDog Breath\")\n",
    "\n",
    "d = Dog()\n",
    "d.breath()\n",
    "d.bark()\n",
    "\n",
    "b = SibaDog()\n",
    "b.breath()"
   ]
  },
  {
   "cell_type": "markdown",
   "metadata": {},
   "source": [
    "### Overriding def\n",
    "* 클래스가 상속관계일때 같은 이름의 함수를 재정(재정의)하는것\n",
    "\n",
    "### Overloading \n",
    "* 같은 클래스에서 함수의 매개변수(파라미터)가 다른 경우에 사용"
   ]
  },
  {
   "cell_type": "code",
   "execution_count": 44,
   "metadata": {},
   "outputs": [],
   "source": [
    "class Myclass:\n",
    "    def __init__(self, a=0, b=0):\n",
    "        self.a = a\n",
    "        self.b = b\n",
    "\n",
    "m = Myclass(1)\n",
    "m2 = Myclass(a=1,b=0)\n",
    "m3 = Myclass(b=0, a=1)"
   ]
  },
  {
   "cell_type": "code",
   "execution_count": null,
   "metadata": {},
   "outputs": [],
   "source": []
  },
  {
   "cell_type": "code",
   "execution_count": 47,
   "metadata": {},
   "outputs": [
    {
     "name": "stdout",
     "output_type": "stream",
     "text": [
      "Constructor\n"
     ]
    },
    {
     "ename": "AttributeError",
     "evalue": "type object 'Myclass2' has no attribute '__name2'",
     "output_type": "error",
     "traceback": [
      "\u001b[1;31m---------------------------------------------------------------------------\u001b[0m",
      "\u001b[1;31mAttributeError\u001b[0m                            Traceback (most recent call last)",
      "\u001b[1;32m<ipython-input-47-246a249d445e>\u001b[0m in \u001b[0;36m<module>\u001b[1;34m\u001b[0m\n\u001b[0;32m      8\u001b[0m \u001b[0mm4\u001b[0m \u001b[1;33m=\u001b[0m \u001b[0mMyclass2\u001b[0m\u001b[1;33m(\u001b[0m\u001b[1;33m)\u001b[0m\u001b[1;33m\u001b[0m\u001b[1;33m\u001b[0m\u001b[0m\n\u001b[0;32m      9\u001b[0m \u001b[0mm4\u001b[0m\u001b[1;33m.\u001b[0m\u001b[0m__class__\u001b[0m\u001b[1;33m.\u001b[0m\u001b[0mname\u001b[0m\u001b[1;33m\u001b[0m\u001b[1;33m\u001b[0m\u001b[0m\n\u001b[1;32m---> 10\u001b[1;33m \u001b[0mm4\u001b[0m\u001b[1;33m.\u001b[0m\u001b[0m__class__\u001b[0m\u001b[1;33m.\u001b[0m\u001b[0m__name2\u001b[0m\u001b[1;33m\u001b[0m\u001b[1;33m\u001b[0m\u001b[0m\n\u001b[0m",
      "\u001b[1;31mAttributeError\u001b[0m: type object 'Myclass2' has no attribute '__name2'"
     ]
    }
   ],
   "source": [
    "# Data hiding__ 안에 있는 요소에 바로 접근 못하게, 매소드 통해 접근해야함.\n",
    "class Myclass2:\n",
    "    name = 100 # public\n",
    "    __name2 = 100 # __은 접근 못하도록 막아주는 거\n",
    "    def __init__(self):\n",
    "        print(\"Constructor\")\n",
    "\n",
    "m4 = Myclass2()\n",
    "m4.__class__.name\n",
    "m4.__class__.__name2"
   ]
  },
  {
   "cell_type": "code",
   "execution_count": null,
   "metadata": {},
   "outputs": [],
   "source": []
  },
  {
   "cell_type": "code",
   "execution_count": 56,
   "metadata": {},
   "outputs": [
    {
     "name": "stdout",
     "output_type": "stream",
     "text": [
      "constructor\n",
      "홍길동\n",
      "홍길동\n"
     ]
    }
   ],
   "source": [
    "# 캡슐화, 상속성, 다형성\n",
    "# Python OOP\n",
    "\n",
    "class Employee2:\n",
    "    name = \"\"\n",
    "    def __init__(self):\n",
    "        print('constructor')\n",
    "    def getName(self):\n",
    "        return self.name\n",
    "    def setName(self, name=\"\"):\n",
    "        self.name = name\n",
    "    \n",
    "emp2 = Employee2()\n",
    "emp2.setName('홍길동')\n",
    "print(emp2.getName())\n",
    "print(emp2.name)"
   ]
  },
  {
   "cell_type": "code",
   "execution_count": 63,
   "metadata": {},
   "outputs": [
    {
     "data": {
      "text/plain": [
       "'강감찬'"
      ]
     },
     "execution_count": 63,
     "metadata": {},
     "output_type": "execute_result"
    }
   ],
   "source": [
    "class Employee3:\n",
    "    name2 = \"\"\n",
    "    def getName(self): # getter\n",
    "        return Employee3.name2\n",
    "    def setName(self, name): # setter\n",
    "        Employee3.name2 = name\n",
    "        \n",
    "emp3 = Employee3()\n",
    "emp3.setName(\"이순신\")\n",
    "emp3.getName()\n",
    "\n",
    "Employee3.name2 = '강감찬'\n",
    "Employee3.name2"
   ]
  },
  {
   "cell_type": "code",
   "execution_count": 72,
   "metadata": {},
   "outputs": [
    {
     "name": "stdout",
     "output_type": "stream",
     "text": [
      "1234\n",
      "1234\n",
      "강감찬\n",
      "강감찬\n"
     ]
    }
   ],
   "source": [
    "# class variable vs instance variable\n",
    "# class variable -> shared variables in instances\n",
    "# instance variable -> in instances\n",
    "\n",
    "# 이름이 동일해 공유하게 된다.\n",
    "class School:\n",
    "    name2 = '1234'\n",
    "    def getName(self):\n",
    "        return School.name2\n",
    "    def getName2(self):\n",
    "        return self.name2\n",
    "    def setName(self, name):\n",
    "        self.name2 = name\n",
    "    def setName2(self,name):\n",
    "        School.name2 = name\n",
    "\n",
    "s = School()\n",
    "print(s.getName2())\n",
    "print(s.getName())\n",
    "\n",
    "s.setName2(\"강감찬\")\n",
    "print(s.getName2())\n",
    "print(s.getName())"
   ]
  },
  {
   "cell_type": "code",
   "execution_count": null,
   "metadata": {},
   "outputs": [],
   "source": [
    "# 캡슐화, 상속성, 다형성\n",
    "# Data Hide\n",
    "\n",
    "class Computer:\n",
    "    def __init__(self):\n",
    "        self.__maxprice = 1000\n"
   ]
  },
  {
   "cell_type": "code",
   "execution_count": 5,
   "metadata": {},
   "outputs": [
    {
     "name": "stdout",
     "output_type": "stream",
     "text": [
      "Animal breath\n",
      "Dog breath\n",
      "Bird breath\n"
     ]
    }
   ],
   "source": [
    "# 캡슐화\n",
    "# 세 가지 모델로 다양성 \n",
    "# 매서드 통일될 경우..\n",
    "class Animal:\n",
    "    def breath(self):\n",
    "        print(\"Animal breath\")\n",
    "        \n",
    "class Dog:\n",
    "    def breath(self):\n",
    "        print(\"Dog breath\")\n",
    "        \n",
    "class Bird:\n",
    "    def breath(self):\n",
    "        print(\"Bird breath\")\n",
    "        \n",
    "a = Animal()\n",
    "# a.breath()\n",
    "a1 = Dog()\n",
    "# a1.breath()\n",
    "a3 = Bird()\n",
    "# a3.breath()\n",
    "\n",
    "\n",
    "def Execute(test):\n",
    "    test.breath()\n",
    "\n",
    "Execute(a)\n",
    "Execute(a1)\n",
    "Execute(a3)"
   ]
  },
  {
   "cell_type": "code",
   "execution_count": null,
   "metadata": {},
   "outputs": [],
   "source": []
  },
  {
   "cell_type": "code",
   "execution_count": null,
   "metadata": {},
   "outputs": [],
   "source": []
  },
  {
   "cell_type": "code",
   "execution_count": null,
   "metadata": {},
   "outputs": [],
   "source": []
  },
  {
   "cell_type": "code",
   "execution_count": null,
   "metadata": {},
   "outputs": [],
   "source": []
  },
  {
   "cell_type": "code",
   "execution_count": null,
   "metadata": {},
   "outputs": [],
   "source": []
  },
  {
   "cell_type": "code",
   "execution_count": null,
   "metadata": {},
   "outputs": [],
   "source": []
  },
  {
   "cell_type": "code",
   "execution_count": null,
   "metadata": {},
   "outputs": [],
   "source": []
  },
  {
   "cell_type": "code",
   "execution_count": null,
   "metadata": {},
   "outputs": [],
   "source": []
  },
  {
   "cell_type": "code",
   "execution_count": null,
   "metadata": {},
   "outputs": [],
   "source": []
  },
  {
   "cell_type": "code",
   "execution_count": null,
   "metadata": {},
   "outputs": [],
   "source": []
  },
  {
   "cell_type": "code",
   "execution_count": null,
   "metadata": {},
   "outputs": [],
   "source": []
  }
 ],
 "metadata": {
  "kernelspec": {
   "display_name": "Python 3",
   "language": "python",
   "name": "python3"
  },
  "language_info": {
   "codemirror_mode": {
    "name": "ipython",
    "version": 3
   },
   "file_extension": ".py",
   "mimetype": "text/x-python",
   "name": "python",
   "nbconvert_exporter": "python",
   "pygments_lexer": "ipython3",
   "version": "3.7.3"
  }
 },
 "nbformat": 4,
 "nbformat_minor": 2
}
