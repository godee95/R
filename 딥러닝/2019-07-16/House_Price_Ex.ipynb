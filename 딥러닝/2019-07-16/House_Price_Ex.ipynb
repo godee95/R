{
 "cells": [
  {
   "cell_type": "markdown",
   "metadata": {},
   "source": [
    "### 데이터 전처리(Preprocessing)"
   ]
  },
  {
   "cell_type": "code",
   "execution_count": 1,
   "metadata": {},
   "outputs": [
    {
     "data": {
      "text/html": [
       "<div>\n",
       "<style scoped>\n",
       "    .dataframe tbody tr th:only-of-type {\n",
       "        vertical-align: middle;\n",
       "    }\n",
       "\n",
       "    .dataframe tbody tr th {\n",
       "        vertical-align: top;\n",
       "    }\n",
       "\n",
       "    .dataframe thead th {\n",
       "        text-align: right;\n",
       "    }\n",
       "</style>\n",
       "<table border=\"1\" class=\"dataframe\">\n",
       "  <thead>\n",
       "    <tr style=\"text-align: right;\">\n",
       "      <th></th>\n",
       "      <th>Id</th>\n",
       "      <th>MSSubClass</th>\n",
       "      <th>MSZoning</th>\n",
       "      <th>LotFrontage</th>\n",
       "      <th>LotArea</th>\n",
       "      <th>Street</th>\n",
       "      <th>Alley</th>\n",
       "      <th>LotShape</th>\n",
       "      <th>LandContour</th>\n",
       "      <th>Utilities</th>\n",
       "      <th>...</th>\n",
       "      <th>PoolArea</th>\n",
       "      <th>PoolQC</th>\n",
       "      <th>Fence</th>\n",
       "      <th>MiscFeature</th>\n",
       "      <th>MiscVal</th>\n",
       "      <th>MoSold</th>\n",
       "      <th>YrSold</th>\n",
       "      <th>SaleType</th>\n",
       "      <th>SaleCondition</th>\n",
       "      <th>SalePrice</th>\n",
       "    </tr>\n",
       "  </thead>\n",
       "  <tbody>\n",
       "    <tr>\n",
       "      <th>0</th>\n",
       "      <td>1</td>\n",
       "      <td>60</td>\n",
       "      <td>RL</td>\n",
       "      <td>65.0</td>\n",
       "      <td>8450</td>\n",
       "      <td>Pave</td>\n",
       "      <td>NaN</td>\n",
       "      <td>Reg</td>\n",
       "      <td>Lvl</td>\n",
       "      <td>AllPub</td>\n",
       "      <td>...</td>\n",
       "      <td>0</td>\n",
       "      <td>NaN</td>\n",
       "      <td>NaN</td>\n",
       "      <td>NaN</td>\n",
       "      <td>0</td>\n",
       "      <td>2</td>\n",
       "      <td>2008</td>\n",
       "      <td>WD</td>\n",
       "      <td>Normal</td>\n",
       "      <td>208500</td>\n",
       "    </tr>\n",
       "    <tr>\n",
       "      <th>1</th>\n",
       "      <td>2</td>\n",
       "      <td>20</td>\n",
       "      <td>RL</td>\n",
       "      <td>80.0</td>\n",
       "      <td>9600</td>\n",
       "      <td>Pave</td>\n",
       "      <td>NaN</td>\n",
       "      <td>Reg</td>\n",
       "      <td>Lvl</td>\n",
       "      <td>AllPub</td>\n",
       "      <td>...</td>\n",
       "      <td>0</td>\n",
       "      <td>NaN</td>\n",
       "      <td>NaN</td>\n",
       "      <td>NaN</td>\n",
       "      <td>0</td>\n",
       "      <td>5</td>\n",
       "      <td>2007</td>\n",
       "      <td>WD</td>\n",
       "      <td>Normal</td>\n",
       "      <td>181500</td>\n",
       "    </tr>\n",
       "    <tr>\n",
       "      <th>2</th>\n",
       "      <td>3</td>\n",
       "      <td>60</td>\n",
       "      <td>RL</td>\n",
       "      <td>68.0</td>\n",
       "      <td>11250</td>\n",
       "      <td>Pave</td>\n",
       "      <td>NaN</td>\n",
       "      <td>IR1</td>\n",
       "      <td>Lvl</td>\n",
       "      <td>AllPub</td>\n",
       "      <td>...</td>\n",
       "      <td>0</td>\n",
       "      <td>NaN</td>\n",
       "      <td>NaN</td>\n",
       "      <td>NaN</td>\n",
       "      <td>0</td>\n",
       "      <td>9</td>\n",
       "      <td>2008</td>\n",
       "      <td>WD</td>\n",
       "      <td>Normal</td>\n",
       "      <td>223500</td>\n",
       "    </tr>\n",
       "  </tbody>\n",
       "</table>\n",
       "<p>3 rows × 81 columns</p>\n",
       "</div>"
      ],
      "text/plain": [
       "   Id  MSSubClass MSZoning  LotFrontage  LotArea Street Alley LotShape  \\\n",
       "0   1          60       RL         65.0     8450   Pave   NaN      Reg   \n",
       "1   2          20       RL         80.0     9600   Pave   NaN      Reg   \n",
       "2   3          60       RL         68.0    11250   Pave   NaN      IR1   \n",
       "\n",
       "  LandContour Utilities  ... PoolArea PoolQC Fence MiscFeature MiscVal MoSold  \\\n",
       "0         Lvl    AllPub  ...        0    NaN   NaN         NaN       0      2   \n",
       "1         Lvl    AllPub  ...        0    NaN   NaN         NaN       0      5   \n",
       "2         Lvl    AllPub  ...        0    NaN   NaN         NaN       0      9   \n",
       "\n",
       "  YrSold  SaleType  SaleCondition  SalePrice  \n",
       "0   2008        WD         Normal     208500  \n",
       "1   2007        WD         Normal     181500  \n",
       "2   2008        WD         Normal     223500  \n",
       "\n",
       "[3 rows x 81 columns]"
      ]
     },
     "execution_count": 1,
     "metadata": {},
     "output_type": "execute_result"
    }
   ],
   "source": [
    "import pandas as pd\n",
    "import numpy as np\n",
    "import seaborn as sns\n",
    "import matplotlib.pyplot as plt\n",
    "%matplotlib inline\n",
    "\n",
    "house_df_org = pd.read_csv('house_price.csv')\n",
    "house_df = house_df_org.copy()\n",
    "house_df.head(3)"
   ]
  },
  {
   "cell_type": "markdown",
   "metadata": {},
   "source": [
    "'데이터 세트의 Shape'<br>\n",
    "'전체 feature 들의 type'<br>\n",
    "'Null 컬럼과 그 건수'"
   ]
  },
  {
   "cell_type": "code",
   "execution_count": 2,
   "metadata": {},
   "outputs": [
    {
     "name": "stdout",
     "output_type": "stream",
     "text": [
      "데이터 세트의 Shape: (1460, 81)\n",
      "\n",
      "전체 feature 들의 type \n",
      " object     43\n",
      "int64      35\n",
      "float64     3\n",
      "dtype: int64\n",
      "\n",
      "Null 컬럼과 그 건수:\n",
      "  PoolQC          1453\n",
      "MiscFeature     1406\n",
      "Alley           1369\n",
      "Fence           1179\n",
      "FireplaceQu      690\n",
      "LotFrontage      259\n",
      "GarageYrBlt       81\n",
      "GarageType        81\n",
      "GarageFinish      81\n",
      "GarageQual        81\n",
      "GarageCond        81\n",
      "BsmtFinType2      38\n",
      "BsmtExposure      38\n",
      "BsmtFinType1      37\n",
      "BsmtCond          37\n",
      "BsmtQual          37\n",
      "MasVnrArea         8\n",
      "MasVnrType         8\n",
      "Electrical         1\n",
      "dtype: int64\n"
     ]
    }
   ],
   "source": [
    "print('데이터 세트의 Shape:', house_df.shape)\n",
    "print('\\n전체 feature 들의 type \\n',house_df.dtypes.value_counts())\n",
    "isnull_series = house_df.isnull().sum()\n",
    "print('\\nNull 컬럼과 그 건수:\\n ', isnull_series[isnull_series > 0].sort_values(ascending=False))"
   ]
  },
  {
   "cell_type": "markdown",
   "metadata": {},
   "source": [
    "'Original Sale Price Histogram'"
   ]
  },
  {
   "cell_type": "code",
   "execution_count": 3,
   "metadata": {},
   "outputs": [
    {
     "data": {
      "image/png": "[encoded data removed]",
      "text/plain": [
       "<Figure size 432x288 with 1 Axes>"
      ]
     },
     "metadata": {
      "needs_background": "light"
     },
     "output_type": "display_data"
    }
   ],
   "source": [
    "# 연속형 데이터의 구간별 크기\n",
    "# 돈과 관련된 데이터들은 절대로 정규분포를 따르지 않음 <-> 대부분 한쪽으로 치우쳐 있음\n",
    "# 난수, 모의 데이터, 비교 대상의 데이터 필요->분포개념 생김\n",
    "# 분포는 결국 비교하기 위해 만들어진 개념\n",
    "# 돈만큼 왜곡된 데이터는 없다.\n",
    "# 아래와 같은 데이터 결과가 나올때는 '정규분포화 해줘라' -> log1p(로그화)\n",
    "plt.title('Original Sale Price Histogram')\n",
    "sns.distplot(house_df['SalePrice']);"
   ]
  },
  {
   "cell_type": "markdown",
   "metadata": {},
   "source": [
    "'Log Transformed Sale Price Histogram'"
   ]
  },
  {
   "cell_type": "code",
   "execution_count": 4,
   "metadata": {},
   "outputs": [
    {
     "data": {
      "image/png": "[encoded data removed]",
      "text/plain": [
       "<Figure size 432x288 with 1 Axes>"
      ]
     },
     "metadata": {
      "needs_background": "light"
     },
     "output_type": "display_data"
    }
   ],
   "source": [
    "plt.title('Log Transformed Sale Price Histogram')\n",
    "log_SalePrice = np.log1p(house_df['SalePrice'])\n",
    "sns.distplot(log_SalePrice);"
   ]
  },
  {
   "cell_type": "markdown",
   "metadata": {},
   "source": [
    "SalePrice 로그 변환<br>\n",
    "Null 이 너무 많은 컬럼(500개 이상)들과 불필요한 컬럼 삭제<br>\n",
    "Drop 하지 않는 숫자형 Null컬럼들은 평균값으로 대체<br>\n",
    "Null 값이 있는 피처명과 타입을 추출"
   ]
  },
  {
   "cell_type": "code",
   "execution_count": 5,
   "metadata": {},
   "outputs": [
    {
     "name": "stdout",
     "output_type": "stream",
     "text": [
      "## Null 피처의 Type :\n",
      " MasVnrType      object\n",
      "BsmtQual        object\n",
      "BsmtCond        object\n",
      "BsmtExposure    object\n",
      "BsmtFinType1    object\n",
      "BsmtFinType2    object\n",
      "Electrical      object\n",
      "GarageType      object\n",
      "GarageFinish    object\n",
      "GarageQual      object\n",
      "GarageCond      object\n",
      "dtype: object\n"
     ]
    }
   ],
   "source": [
    "# SalePrice 로그 변환\n",
    "original_SalePrice = house_df['SalePrice']\n",
    "house_df['SalePrice'] = np.log1p(house_df['SalePrice'])\n",
    "\n",
    "# Null 이 너무 많은 컬럼(500개 이상)들과 불필요한 컬럼 삭제\n",
    "house_df.drop(['Id','PoolQC' , 'MiscFeature', 'Alley', 'Fence','FireplaceQu'], axis=1 , inplace=True)\n",
    "# Drop 하지 않는 숫자형 Null컬럼들은 평균값으로 대체\n",
    "house_df.fillna(house_df.mean(),inplace=True)\n",
    "\n",
    "# Null 값이 있는 피처명과 타입을 추출\n",
    "null_column_count = house_df.isnull().sum()[house_df.isnull().sum() > 0]\n",
    "print('## Null 피처의 Type :\\n', house_df.dtypes[null_column_count.index])"
   ]
  },
  {
   "cell_type": "markdown",
   "metadata": {},
   "source": [
    "'get_dummies() 수행 전 데이터 Shape'<br>\n",
    "'get_dummies() 수행 후 데이터 Shape'<br>\n",
    "'Null 피처의 Type'"
   ]
  },
  {
   "cell_type": "code",
   "execution_count": 6,
   "metadata": {},
   "outputs": [
    {
     "name": "stdout",
     "output_type": "stream",
     "text": [
      "get_dummies() 수행 전 데이터 Shape: (1460, 75)\n",
      "get_dummies() 수행 후 데이터 Shape: (1460, 271)\n",
      "## Null 피처의 Type :\n",
      " Series([], dtype: object)\n"
     ]
    }
   ],
   "source": [
    "# 결축값 처리 완료 됨.\n",
    "print('get_dummies() 수행 전 데이터 Shape:', house_df.shape)\n",
    "house_df_ohe = pd.get_dummies(house_df)\n",
    "print('get_dummies() 수행 후 데이터 Shape:', house_df_ohe.shape)\n",
    "\n",
    "null_column_count = house_df_ohe.isnull().sum()[house_df_ohe.isnull().sum() > 0]\n",
    "print('## Null 피처의 Type :\\n', house_df_ohe.dtypes[null_column_count.index])"
   ]
  },
  {
   "cell_type": "markdown",
   "metadata": {},
   "source": [
    "### 선형 회귀 모델의 학습/예측/평가"
   ]
  },
  {
   "cell_type": "code",
   "execution_count": 3,
   "metadata": {},
   "outputs": [],
   "source": [
    "# overfitting(학습된 데이터에 최적합, 새로운 데이터 처리에 적합하지 않음) 되지 않도록\n",
    "# 즉, 일반화되기 위한 규제(Ridge, Lasso-통계관련 개념)\n",
    "# 규제가 적용된 선형 모델\n",
    "# 벡터 노름에 L1, L2를 가져다가 쓴 개념이 Ridge(0이되서 변수에 가깝게 되는 거), Lasso(0애 가깝게 가는거)\n",
    "# 다중 공선심 문제(완전 독립된 변수란 없음. 컬럼끼리 어느정도 관계있는 경우가 많음)\n",
    "def get_rmse(model):\n",
    "    pass\n",
    "\n",
    "def get_rmses(models):\n",
    "    pass"
   ]
  },
  {
   "cell_type": "markdown",
   "metadata": {},
   "source": [
    "LinearRegression, Ridge, Lasso 학습, 예측, 평가 <= test size: 20%, random seed: 156"
   ]
  },
  {
   "cell_type": "code",
   "execution_count": 5,
   "metadata": {},
   "outputs": [],
   "source": [
    "def get_top_bottom_coef(model):\n",
    "    # coef_ 속성을 기반으로 Series 객체를 생성. index는 컬럼명. \n",
    "    \n",
    "    # + 상위 10개 , - 하위 10개 coefficient 추출하여 반환.\n",
    "    \n",
    "    pass"
   ]
  },
  {
   "cell_type": "code",
   "execution_count": 7,
   "metadata": {},
   "outputs": [],
   "source": [
    "def visualize_coefficient(models):\n",
    "    # 3개 회귀 모델의 시각화를 위해 3개의 컬럼을 가지는 subplot 생성\n",
    "    \n",
    "    # 입력인자로 받은 list객체인 models에서 차례로 model을 추출하여 회귀 계수 시각화. \n",
    "    \n",
    "    # 상위 10개, 하위 10개 회귀 계수를 구하고, 이를 판다스 concat으로 결합. \n",
    "        \n",
    "    # 순차적으로 ax subplot에 barchar로 표현. 한 화면에 표현하기 위해 tick label 위치와 font 크기 조정. \n",
    "    \n",
    "    pass\n",
    "        \n",
    "# 앞에서 학습한 모델의 회귀 계수 시각화.    "
   ]
  },
  {
   "cell_type": "code",
   "execution_count": 9,
   "metadata": {},
   "outputs": [],
   "source": [
    "def get_avg_rmse_cv(models):\n",
    "    # 분할하지 않고 전체 데이터로 cross_val_score( ) 수행. scoring: neg_mean_squared_error, cv: 5. 모델별 CV RMSE값과 평균 RMSE 출력\n",
    "    pass    \n",
    "\n",
    "# 앞에서 학습한 모델의 CV RMSE값 출력           \n"
   ]
  },
  {
   "cell_type": "markdown",
   "metadata": {},
   "source": [
    "#### * 하이퍼 파라미터 튜닝"
   ]
  },
  {
   "cell_type": "code",
   "execution_count": 10,
   "metadata": {},
   "outputs": [],
   "source": [
    "def get_best_params(model, params):\n",
    "    # scoring: neg_mean_squared_error, cv: 5\n",
    "    pass"
   ]
  },
  {
   "cell_type": "markdown",
   "metadata": {},
   "source": [
    "앞의 최적화 alpha값으로 학습데이터로 학습, 테스트 데이터로 예측 및 평가 수행. <br>\n",
    "\n",
    "모든 모델의 RMSE 출력 <br>\n",
    "\n",
    "모든 모델의 회귀 계수 시각화 \n"
   ]
  },
  {
   "cell_type": "markdown",
   "metadata": {},
   "source": [
    "#### * 데이터 왜곡 로그 변환 후 성능 평가"
   ]
  },
  {
   "cell_type": "markdown",
   "metadata": {},
   "source": [
    "object가 아닌 숫자형 피쳐의 컬럼 index 객체 추출.<br>\n",
    "\n",
    "house_df에 컬럼 index를 [ ]로 입력하면 해당하는 컬럼 데이터 셋 반환. apply lambda로 skew( )호출 <br>\n",
    "\n",
    "skew 정도가 1 이상인 컬럼들만 추출. \n"
   ]
  },
  {
   "cell_type": "markdown",
   "metadata": {},
   "source": [
    "Skew가 높은 피처들을 로그 변환 했으므로 다시 원-핫 인코딩 적용 및 피처/타겟 데이터 셋 생성,<br>\n",
    "\n",
    "피처들을 로그 변환 후 다시 최적 하이퍼 파라미터와 RMSE 출력\n"
   ]
  },
  {
   "cell_type": "markdown",
   "metadata": {},
   "source": [
    "앞의 최적화 alpha값으로 학습데이터로 학습, 테스트 데이터로 예측 및 평가 수행. <br>\n",
    "\n",
    "모든 모델의 RMSE 출력<br>\n",
    "\n",
    "모든 모델의 회귀 계수 시각화 \n"
   ]
  },
  {
   "cell_type": "markdown",
   "metadata": {},
   "source": [
    "#### * 이상치 제거"
   ]
  },
  {
   "cell_type": "markdown",
   "metadata": {},
   "source": [
    "산점도 시각화\n"
   ]
  },
  {
   "cell_type": "markdown",
   "metadata": {},
   "source": [
    "GrLivArea와 SalePrice 모두 로그 변환되었으므로 이를 반영한 조건 생성. <br>\n",
    "\n",
    "DataFrame의 index를 이용하여 아웃라이어 레코드 삭제. \n"
   ]
  },
  {
   "cell_type": "markdown",
   "metadata": {},
   "source": [
    "앞의 최적화 alpha값으로 학습데이터로 학습, 테스트 데이터로 예측 및 평가 수행. <br>\n",
    "\n",
    "모든 모델의 RMSE 출력<br>\n",
    "\n",
    "모든 모델의 회귀 계수 시각화 \n"
   ]
  },
  {
   "cell_type": "markdown",
   "metadata": {},
   "source": [
    "### 회귀 모델들의 예측 결과 혼합을 통한 최종 예측"
   ]
  },
  {
   "cell_type": "code",
   "execution_count": 15,
   "metadata": {},
   "outputs": [],
   "source": [
    "def get_rmse_pred(preds):\n",
    "    pass\n",
    "\n",
    "# 최종 혼합 모델의 RMSE: 0.10007 \n",
    "# Ridge 모델의 RMSE: 0.10345 \n",
    "# Lasso 모델의 RMSE: 0.10024"
   ]
  },
  {
   "cell_type": "markdown",
   "metadata": {},
   "source": [
    "개별 모델의 학습<br>\n",
    "\n",
    "개별 모델 예측<br>\n",
    "\n",
    "개별 모델 예측값 혼합으로 최종 예측값 도출 (ridge: 40%, lasso: 60%)<br>\n",
    "\n",
    "최종 혼합 모델, 개별모델의 RMSE 값 출력\n"
   ]
  },
  {
   "cell_type": "code",
   "execution_count": null,
   "metadata": {},
   "outputs": [],
   "source": []
  }
 ],
 "metadata": {
  "kernelspec": {
   "display_name": "Python 3",
   "language": "python",
   "name": "python3"
  },
  "language_info": {
   "codemirror_mode": {
    "name": "ipython",
    "version": 3
   },
   "file_extension": ".py",
   "mimetype": "text/x-python",
   "name": "python",
   "nbconvert_exporter": "python",
   "pygments_lexer": "ipython3",
   "version": "3.7.3"
  }
 },
 "nbformat": 4,
 "nbformat_minor": 2
}
